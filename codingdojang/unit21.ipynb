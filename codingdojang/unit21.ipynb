{
 "metadata": {
  "language_info": {
   "codemirror_mode": {
    "name": "ipython",
    "version": 3
   },
   "file_extension": ".py",
   "mimetype": "text/x-python",
   "name": "python",
   "nbconvert_exporter": "python",
   "pygments_lexer": "ipython3",
   "version": "3.8.10"
  },
  "orig_nbformat": 4,
  "kernelspec": {
   "name": "python3",
   "display_name": "Python 3.8.10 64-bit ('base': conda)"
  },
  "interpreter": {
   "hash": "c81169c30fb96244cfba0db287a0d3fd5325268de070a7a6116eecd4596df902"
  }
 },
 "nbformat": 4,
 "nbformat_minor": 2,
 "cells": [
  {
   "source": [
    "# Unit 21. 터틀 그래픽스로 그림 그리기"
   ],
   "cell_type": "markdown",
   "metadata": {}
  },
  {
   "source": [
    "### 21.1 사각형 그리기"
   ],
   "cell_type": "markdown",
   "metadata": {}
  },
  {
   "cell_type": "code",
   "execution_count": 1,
   "metadata": {},
   "outputs": [],
   "source": [
    "import turtle as t\n",
    "t.shape('turtle')"
   ]
  },
  {
   "cell_type": "code",
   "execution_count": 2,
   "metadata": {},
   "outputs": [],
   "source": [
    "t.forward(100)"
   ]
  },
  {
   "cell_type": "code",
   "execution_count": 3,
   "metadata": {},
   "outputs": [],
   "source": [
    "t.right(90)"
   ]
  },
  {
   "cell_type": "code",
   "execution_count": 4,
   "metadata": {},
   "outputs": [],
   "source": [
    "t.forward(100)"
   ]
  },
  {
   "cell_type": "code",
   "execution_count": 5,
   "metadata": {},
   "outputs": [],
   "source": [
    "t.right(90)"
   ]
  },
  {
   "cell_type": "code",
   "execution_count": 6,
   "metadata": {},
   "outputs": [],
   "source": [
    "t.forward(100)"
   ]
  },
  {
   "cell_type": "code",
   "execution_count": 7,
   "metadata": {},
   "outputs": [],
   "source": [
    "t.right(90)"
   ]
  },
  {
   "cell_type": "code",
   "execution_count": 8,
   "metadata": {},
   "outputs": [],
   "source": [
    "t.forward(100)\n"
   ]
  },
  {
   "source": [
    "### 21.2 다각형 그리기"
   ],
   "cell_type": "markdown",
   "metadata": {}
  },
  {
   "source": [
    "####  사각형 그리기"
   ],
   "cell_type": "markdown",
   "metadata": {}
  },
  {
   "cell_type": "code",
   "execution_count": null,
   "metadata": {},
   "outputs": [],
   "source": [
    "t.shape('turtle')\n",
    "for i in range(4):\n",
    "    t.forward(100)\n",
    "    t.right(90)"
   ]
  },
  {
   "source": [
    "#### 오각형 그리기"
   ],
   "cell_type": "markdown",
   "metadata": {}
  },
  {
   "cell_type": "code",
   "execution_count": null,
   "metadata": {},
   "outputs": [],
   "source": [
    "t.shape('turtle')\n",
    "for i in range(5):\n",
    "    t.forward(100)\n",
    "    t.right(360 / 5)"
   ]
  },
  {
   "source": [
    "#### 다각형 그리기 "
   ],
   "cell_type": "markdown",
   "metadata": {}
  },
  {
   "cell_type": "code",
   "execution_count": null,
   "metadata": {},
   "outputs": [],
   "source": [
    " n = int(input())\n",
    "t.shape('turtle')\n",
    "for i in range(n):\n",
    "    t.forward(100)\n",
    "    t.right(360 / n)"
   ]
  },
  {
   "source": [
    "### 21.2.3  다각형에 색칠하기"
   ],
   "cell_type": "markdown",
   "metadata": {}
  },
  {
   "cell_type": "code",
   "execution_count": null,
   "metadata": {},
   "outputs": [],
   "source": [
    "import turtle as t\n",
    " \n",
    "n = 6\n",
    "t.shape('turtle')\n",
    "t.color('red')\n",
    "t.begin_fill()\n",
    "for i in range(n):\n",
    "    t.forward(100)\n",
    "    t.right(360 / n)\n",
    "t.end_fill()"
   ]
  },
  {
   "source": [
    "### 21.3 복잡한 도형 그리기"
   ],
   "cell_type": "markdown",
   "metadata": {}
  },
  {
   "source": [
    "#### 원그리기 "
   ],
   "cell_type": "markdown",
   "metadata": {}
  },
  {
   "cell_type": "code",
   "execution_count": null,
   "metadata": {},
   "outputs": [],
   "source": [
    "import turtle as t\n",
    "t.shape('turtle')\n",
    "t.circle(120)"
   ]
  },
  {
   "source": [
    "#### 21.3.1  원을 반복해서 그리기"
   ],
   "cell_type": "markdown",
   "metadata": {}
  },
  {
   "cell_type": "code",
   "execution_count": null,
   "metadata": {},
   "outputs": [],
   "source": [
    "n = 60    # 원을 60번 그림\n",
    "t.shape('turtle')\n",
    "t.speed('fastest')      # 거북이 속도를 가장 빠르게 설정\n",
    "for i in range(n):\n",
    "    t.circle(120)       # 반지름이 120인 원을 그림\n",
    "    t.right(360 / n)    # 오른쪽으로 6도 회전"
   ]
  },
  {
   "source": [
    "#### 21.3.2  선으로 복잡한 무늬 그리기"
   ],
   "cell_type": "markdown",
   "metadata": {}
  },
  {
   "cell_type": "code",
   "execution_count": null,
   "metadata": {},
   "outputs": [],
   "source": [
    "t.shape('turtle')\n",
    "t.speed('fastest')      # 거북이 속도를 가장 빠르게 설정\n",
    "for i in range(300):    # 300번 반복\n",
    "    t.forward(i)        # i만큼 앞으로 이동. 반복할 때마다 선이 길어짐\n",
    "    t.right(91)         # 오른쪽으로 91도 회전"
   ]
  },
  {
   "source": [
    "### 21.5 연습문제: 오각별 그리기 "
   ],
   "cell_type": "markdown",
   "metadata": {}
  },
  {
   "cell_type": "code",
   "execution_count": 2,
   "metadata": {},
   "outputs": [],
   "source": [
    "n = 5\n",
    "t.shape('turtle')\n",
    "for i in range(n):\n",
    "     t.forward(100)\n",
    "     t.right((360 / n) * 2)\n",
    "     t.forward(100)\n",
    "     t.left(360 / n)\n"
   ]
  },
  {
   "source": [
    "### 21.6 심사문제: 별 그리기\n",
    "\n",
    "\n",
    "\n",
    "표준 입력으로 꼭지점 개수(정수)와 선의 길이(정수)가 입력됩니다(꼭지점 개수의 입력 범위는 5~10, 선의 길이 입력 범위는 50~150입니다). 다음 소스 코드를 완성하여 꼭지점 개수와 선의 길이에 맞는 별이 그려지게 만드세요. 별을 그릴 때는 현재 위치부터 오른쪽으로 이동해서 시작해야 하며 시계 방향으로 그려야 합니다.\n",
    "\n",
    "\n",
    "import turtle as t\n",
    " \n",
    "n, line = map(int, input().split())\n",
    "t.shape('turtle')\n",
    "t.speed('fastest')\n",
    "________________\n",
    "________________\n",
    "________________\n",
    "________________\n",
    "________________\n",
    "\n",
    "\n",
    "표준 입력\n",
    "5 150"
   ],
   "cell_type": "markdown",
   "metadata": {}
  },
  {
   "cell_type": "code",
   "execution_count": 1,
   "metadata": {},
   "outputs": [],
   "source": [
    "import turtle as t\n",
    " \n",
    "n, line = map(int, input().split())\n",
    "t.shape('turtle')\n",
    "t.speed('fastest')\n",
    "for i in range(n):\n",
    "    t.forward(line)\n",
    "    t.right((360/n)*2)\n",
    "    t.forward(line)\n",
    "    t.left(360/n)"
   ]
  },
  {
   "cell_type": "code",
   "execution_count": null,
   "metadata": {},
   "outputs": [],
   "source": []
  }
 ]
}