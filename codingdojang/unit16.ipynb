{
 "metadata": {
  "language_info": {
   "codemirror_mode": {
    "name": "ipython",
    "version": 3
   },
   "file_extension": ".py",
   "mimetype": "text/x-python",
   "name": "python",
   "nbconvert_exporter": "python",
   "pygments_lexer": "ipython3",
   "version": "3.9.4"
  },
  "orig_nbformat": 2,
  "kernelspec": {
   "name": "python394jvsc74a57bd021f1ad5bc8fd95526da142de23db1942137de62e0445c4ff2b856a782ec60ebe",
   "display_name": "Python 3.9.4 64-bit"
  },
  "metadata": {
   "interpreter": {
    "hash": "21f1ad5bc8fd95526da142de23db1942137de62e0445c4ff2b856a782ec60ebe"
   }
  }
 },
 "nbformat": 4,
 "nbformat_minor": 2,
 "cells": [
  {
   "source": [
    "# 16.1 for와 range 사용하기"
   ],
   "cell_type": "markdown",
   "metadata": {}
  },
  {
   "source": [
    "- for 변수 in range(횟수):\n",
    "\n",
    "     반복할 코드"
   ],
   "cell_type": "markdown",
   "metadata": {}
  },
  {
   "cell_type": "code",
   "execution_count": 2,
   "metadata": {},
   "outputs": [
    {
     "output_type": "stream",
     "name": "stdout",
     "text": [
      "Hello, world!\nHello, world!\nHello, world!\nHello, world!\nHello, world!\nHello, world!\nHello, world!\nHello, world!\nHello, world!\nHello, world!\nHello, world!\nHello, world!\nHello, world!\nHello, world!\nHello, world!\nHello, world!\nHello, world!\nHello, world!\nHello, world!\nHello, world!\nHello, world!\nHello, world!\nHello, world!\nHello, world!\nHello, world!\nHello, world!\nHello, world!\nHello, world!\nHello, world!\nHello, world!\nHello, world!\nHello, world!\nHello, world!\nHello, world!\nHello, world!\nHello, world!\nHello, world!\nHello, world!\nHello, world!\nHello, world!\nHello, world!\nHello, world!\nHello, world!\nHello, world!\nHello, world!\nHello, world!\nHello, world!\nHello, world!\nHello, world!\nHello, world!\nHello, world!\nHello, world!\nHello, world!\nHello, world!\nHello, world!\nHello, world!\nHello, world!\nHello, world!\nHello, world!\nHello, world!\nHello, world!\nHello, world!\nHello, world!\nHello, world!\nHello, world!\nHello, world!\nHello, world!\nHello, world!\nHello, world!\nHello, world!\nHello, world!\nHello, world!\nHello, world!\nHello, world!\nHello, world!\nHello, world!\nHello, world!\nHello, world!\nHello, world!\nHello, world!\nHello, world!\nHello, world!\nHello, world!\nHello, world!\nHello, world!\nHello, world!\nHello, world!\nHello, world!\nHello, world!\nHello, world!\nHello, world!\nHello, world!\nHello, world!\nHello, world!\nHello, world!\nHello, world!\nHello, world!\nHello, world!\nHello, world!\nHello, world!\n"
     ]
    }
   ],
   "source": [
    "for i in range(100):\n",
    "    print('Hello, world!')"
   ]
  },
  {
   "source": [
    "### 16.1.1  반복문에서 변수의 변화 알아보기"
   ],
   "cell_type": "markdown",
   "metadata": {}
  },
  {
   "cell_type": "code",
   "execution_count": 4,
   "metadata": {},
   "outputs": [
    {
     "output_type": "stream",
     "name": "stdout",
     "text": [
      "Hello, world! 0\nHello, world! 1\nHello, world! 2\nHello, world! 3\nHello, world! 4\nHello, world! 5\nHello, world! 6\nHello, world! 7\nHello, world! 8\nHello, world! 9\nHello, world! 10\nHello, world! 11\nHello, world! 12\nHello, world! 13\nHello, world! 14\nHello, world! 15\nHello, world! 16\nHello, world! 17\nHello, world! 18\nHello, world! 19\nHello, world! 20\nHello, world! 21\nHello, world! 22\nHello, world! 23\nHello, world! 24\nHello, world! 25\nHello, world! 26\nHello, world! 27\nHello, world! 28\nHello, world! 29\nHello, world! 30\nHello, world! 31\nHello, world! 32\nHello, world! 33\nHello, world! 34\nHello, world! 35\nHello, world! 36\nHello, world! 37\nHello, world! 38\nHello, world! 39\nHello, world! 40\nHello, world! 41\nHello, world! 42\nHello, world! 43\nHello, world! 44\nHello, world! 45\nHello, world! 46\nHello, world! 47\nHello, world! 48\nHello, world! 49\nHello, world! 50\nHello, world! 51\nHello, world! 52\nHello, world! 53\nHello, world! 54\nHello, world! 55\nHello, world! 56\nHello, world! 57\nHello, world! 58\nHello, world! 59\nHello, world! 60\nHello, world! 61\nHello, world! 62\nHello, world! 63\nHello, world! 64\nHello, world! 65\nHello, world! 66\nHello, world! 67\nHello, world! 68\nHello, world! 69\nHello, world! 70\nHello, world! 71\nHello, world! 72\nHello, world! 73\nHello, world! 74\nHello, world! 75\nHello, world! 76\nHello, world! 77\nHello, world! 78\nHello, world! 79\nHello, world! 80\nHello, world! 81\nHello, world! 82\nHello, world! 83\nHello, world! 84\nHello, world! 85\nHello, world! 86\nHello, world! 87\nHello, world! 88\nHello, world! 89\nHello, world! 90\nHello, world! 91\nHello, world! 92\nHello, world! 93\nHello, world! 94\nHello, world! 95\nHello, world! 96\nHello, world! 97\nHello, world! 98\nHello, world! 99\n"
     ]
    }
   ],
   "source": [
    "for i in range(100):\n",
    "    print('Hello, world!', i)"
   ]
  },
  {
   "source": [
    "# 16.2 for와 range 응용하기"
   ],
   "cell_type": "markdown",
   "metadata": {}
  },
  {
   "source": [
    "### 16.2.1  시작하는 숫자와 끝나는 숫자 지정하기"
   ],
   "cell_type": "markdown",
   "metadata": {}
  },
  {
   "source": [
    "- for 변수 in range(시작, 끝):"
   ],
   "cell_type": "markdown",
   "metadata": {}
  },
  {
   "cell_type": "code",
   "execution_count": 7,
   "metadata": {},
   "outputs": [
    {
     "output_type": "stream",
     "name": "stdout",
     "text": [
      "Hello, world! 5\nHello, world! 6\nHello, world! 7\nHello, world! 8\nHello, world! 9\nHello, world! 10\nHello, world! 11\n"
     ]
    }
   ],
   "source": [
    "for i in range(5,12):\n",
    "    print('Hello, world!', i)"
   ]
  },
  {
   "source": [
    "### 16.2.2  증가폭 사용하기"
   ],
   "cell_type": "markdown",
   "metadata": {}
  },
  {
   "cell_type": "code",
   "execution_count": 9,
   "metadata": {},
   "outputs": [
    {
     "output_type": "stream",
     "name": "stdout",
     "text": [
      "Hello, world! 0\nHello, world! 2\nHello, world! 4\nHello, world! 6\nHello, world! 8\n"
     ]
    }
   ],
   "source": [
    "for i in range(0, 10, 2):\n",
    "    print('Hello, world!', i)"
   ]
  },
  {
   "source": [
    "### 16.2.3  숫자를 감소시키기"
   ],
   "cell_type": "markdown",
   "metadata": {}
  },
  {
   "cell_type": "code",
   "execution_count": 14,
   "metadata": {},
   "outputs": [
    {
     "output_type": "stream",
     "name": "stdout",
     "text": [
      "Hello, world! 10\nHello, world! 9\nHello, world! 8\nHello, world! 7\nHello, world! 6\nHello, world! 5\nHello, world! 4\nHello, world! 3\nHello, world! 2\nHello, world! 1\n"
     ]
    }
   ],
   "source": [
    "for i in range(10, 0,-1):\n",
    "    print('Hello, world!', i)"
   ]
  },
  {
   "source": [
    "- for 변수 in reversed(range(횟수))\n",
    "- for 변수 in reversed(range(시작, 끝))\n",
    "- for 변수 in reversed(range(시작, 끝, 증가폭))"
   ],
   "cell_type": "markdown",
   "metadata": {}
  },
  {
   "cell_type": "code",
   "execution_count": 15,
   "metadata": {},
   "outputs": [
    {
     "output_type": "stream",
     "name": "stdout",
     "text": [
      "Hello, world! 9\nHello, world! 8\nHello, world! 7\nHello, world! 6\nHello, world! 5\nHello, world! 4\nHello, world! 3\nHello, world! 2\nHello, world! 1\nHello, world! 0\n"
     ]
    }
   ],
   "source": [
    "for i in reversed(range(10)):\n",
    "    print('Hello, world!', i)"
   ]
  },
  {
   "source": [
    "### 16.2.4  입력한 횟수대로 반복하기"
   ],
   "cell_type": "markdown",
   "metadata": {}
  },
  {
   "cell_type": "code",
   "execution_count": 16,
   "metadata": {},
   "outputs": [
    {
     "output_type": "stream",
     "name": "stdout",
     "text": [
      "Hello, world! 0\nHello, world! 1\nHello, world! 2\n"
     ]
    }
   ],
   "source": [
    "count = int(input('반복할 횟수를 입력하세요: '))\n",
    "\n",
    "for i in range(count):\n",
    "    print('Hello, world!', i)"
   ]
  },
  {
   "source": [
    "# 16.3 시퀀스 객체로 반복하기"
   ],
   "cell_type": "markdown",
   "metadata": {}
  },
  {
   "cell_type": "code",
   "execution_count": 18,
   "metadata": {},
   "outputs": [
    {
     "output_type": "stream",
     "name": "stdout",
     "text": [
      "10\n20\n30\n40\n50\n"
     ]
    }
   ],
   "source": [
    "a = [10, 20, 30, 40, 50]\n",
    "for i in a:\n",
    "    print(i)"
   ]
  },
  {
   "cell_type": "code",
   "execution_count": 19,
   "metadata": {},
   "outputs": [
    {
     "output_type": "stream",
     "name": "stdout",
     "text": [
      "apple\norange\ngrape\n"
     ]
    }
   ],
   "source": [
    "fruits = ('apple', 'orange', 'grape')\n",
    "for fruit in fruits:\n",
    "    print(fruit)"
   ]
  },
  {
   "cell_type": "code",
   "execution_count": 20,
   "metadata": {},
   "outputs": [
    {
     "output_type": "stream",
     "name": "stdout",
     "text": [
      "p y t h o n "
     ]
    }
   ],
   "source": [
    "for letter in 'python':\n",
    "    print(letter, end=' ')"
   ]
  },
  {
   "source": [
    "- reversed(시퀀스객체)"
   ],
   "cell_type": "markdown",
   "metadata": {}
  },
  {
   "cell_type": "code",
   "execution_count": 21,
   "metadata": {},
   "outputs": [
    {
     "output_type": "stream",
     "name": "stdout",
     "text": [
      "n o h t y P "
     ]
    }
   ],
   "source": [
    "for letter in reversed('Python'):\n",
    "    print(letter, end=' ')"
   ]
  },
  {
   "source": [
    "### 16.5 연습문제: 리스트의 요소에 10을 곱해서 출력하기\n",
    "\n",
    "다음 소스 코드를 완성하여 리스트 x에 들어있는 각 숫자(요소)에 10을 곱한 값이 출력되게 만드세요. 모든 숫자는 공백으로 구분하여 한 줄로 출력되어야 합니다.\n",
    "\n",
    "x = [49, -17, 25, 102, 8, 62, 21]\n",
    " \n",
    "           \n",
    "                          \n",
    "\n",
    "490 -170 250 1020 80 620 210 "
   ],
   "cell_type": "markdown",
   "metadata": {}
  },
  {
   "cell_type": "code",
   "execution_count": 23,
   "metadata": {},
   "outputs": [
    {
     "output_type": "stream",
     "name": "stdout",
     "text": [
      "490 -170 250 1020 80 620 210 "
     ]
    }
   ],
   "source": [
    "x = 49, -17, 25, 102, 8, 62, 21\n",
    "\n",
    "for i in x:\n",
    "    print(i*10,end=' ')"
   ]
  },
  {
   "source": [
    "### 16.6 심사문제: 구구단 출력하기\n",
    "\n",
    "표준 입력으로 정수가 입력됩니다. 입력된 정수의 구구단을 출력하는 프로그램을 만드세요(input에서 안내 문자열은 출력하지 않아야 합니다). 출력 형식은 숫자 * 숫자 = 숫자처럼 만들고 숫자와 *, = 사이는 공백을 한 칸 띄웁니다.\n",
    "\n",
    "________________\n",
    "________________\n",
    "________________\n",
    "\n",
    "예\n",
    "\n",
    "입력\n",
    "\n",
    "2\n",
    "\n",
    "결과\n",
    "\n",
    "2 * 1 = 2\n",
    "\n",
    "2 * 2 = 4\n",
    "\n",
    "2 * 3 = 6\n",
    "\n",
    "2 * 4 = 8\n",
    "\n",
    "2 * 5 = 10\n",
    "\n",
    "2 * 6 = 12\n",
    "\n",
    "2 * 7 = 14\n",
    "\n",
    "2 * 8 = 16\n",
    "\n",
    "2 * 9 = 18\n",
    "\n",
    "입력\n",
    "\n",
    "7\n",
    "\n",
    "결과\n",
    "\n",
    "7 * 1 = 7\n",
    "\n",
    "7 * 2 = 14\n",
    "\n",
    "7 * 3 = 21\n",
    "\n",
    "7 * 4 = 28\n",
    "\n",
    "7 * 5 = 35\n",
    "\n",
    "7 * 6 = 42\n",
    "\n",
    "7 * 7 = 49\n",
    "\n",
    "7 * 8 = 56\n",
    "\n",
    "7 * 9 = 63"
   ],
   "cell_type": "markdown",
   "metadata": {}
  },
  {
   "cell_type": "code",
   "execution_count": 25,
   "metadata": {},
   "outputs": [
    {
     "output_type": "stream",
     "name": "stdout",
     "text": [
      "2 * 1 = 2\n2 * 2 = 4\n2 * 3 = 6\n2 * 4 = 8\n2 * 5 = 10\n2 * 6 = 12\n2 * 7 = 14\n2 * 8 = 16\n2 * 9 = 18\n"
     ]
    }
   ],
   "source": [
    "x = int(input())\n",
    "\n",
    "for i in range(1,10):\n",
    "    print(x,'*',i,'=',x*i)"
   ]
  },
  {
   "cell_type": "code",
   "execution_count": null,
   "metadata": {},
   "outputs": [],
   "source": []
  }
 ]
}