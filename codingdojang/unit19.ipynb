{
 "metadata": {
  "language_info": {
   "codemirror_mode": {
    "name": "ipython",
    "version": 3
   },
   "file_extension": ".py",
   "mimetype": "text/x-python",
   "name": "python",
   "nbconvert_exporter": "python",
   "pygments_lexer": "ipython3",
   "version": "3.8.5"
  },
  "orig_nbformat": 4,
  "kernelspec": {
   "name": "python3",
   "display_name": "Python 3.8.5 64-bit ('base': conda)"
  },
  "interpreter": {
   "hash": "c81169c30fb96244cfba0db287a0d3fd5325268de070a7a6116eecd4596df902"
  }
 },
 "nbformat": 4,
 "nbformat_minor": 2,
 "cells": [
  {
   "source": [
    "# Unit 19. 계단식으로 별 출력하기"
   ],
   "cell_type": "markdown",
   "metadata": {}
  },
  {
   "source": [
    "### 19.1 중첩 루프 사용하기"
   ],
   "cell_type": "markdown",
   "metadata": {}
  },
  {
   "cell_type": "code",
   "execution_count": 4,
   "metadata": {},
   "outputs": [
    {
     "output_type": "stream",
     "name": "stdout",
     "text": [
      "j0j1j2j3j4i0\\n\nj0j1j2j3j4i1\\n\nj0j1j2j3j4i2\\n\nj0j1j2j3j4i3\\n\nj0j1j2j3j4i4\\n\n"
     ]
    }
   ],
   "source": [
    "for i in range(5):\n",
    "    for j in range(5):\n",
    "        print('j',j, sep='',end='')\n",
    "\n",
    "    print('i',i,'\\\\n', sep='')"
   ]
  },
  {
   "source": [
    "### 19.2 사각형으로 별 출력하기"
   ],
   "cell_type": "markdown",
   "metadata": {}
  },
  {
   "cell_type": "code",
   "execution_count": 6,
   "metadata": {},
   "outputs": [
    {
     "output_type": "stream",
     "name": "stdout",
     "text": [
      "*****\n*****\n*****\n*****\n*****\n"
     ]
    }
   ],
   "source": [
    "for i in range(5):\n",
    "    for j in range(5):\n",
    "        print('*',end='')\n",
    "    print()"
   ]
  },
  {
   "source": [
    "### 19.2.1  사각형 모양 바꾸기"
   ],
   "cell_type": "markdown",
   "metadata": {}
  },
  {
   "cell_type": "code",
   "execution_count": 8,
   "metadata": {},
   "outputs": [
    {
     "output_type": "stream",
     "name": "stdout",
     "text": [
      "*******\n*******\n*******\n"
     ]
    }
   ],
   "source": [
    "for i in range(3):\n",
    "    for j in range(7):\n",
    "        print('*',end='')\n",
    "    print()"
   ]
  },
  {
   "source": [
    "### 19.3 계단식으로 별 출력하기"
   ],
   "cell_type": "markdown",
   "metadata": {}
  },
  {
   "cell_type": "code",
   "execution_count": 10,
   "metadata": {},
   "outputs": [
    {
     "output_type": "stream",
     "name": "stdout",
     "text": [
      "*\n**\n***\n****\n*****\n"
     ]
    }
   ],
   "source": [
    "for i in range(5):\n",
    "    for j in range(5):\n",
    "        if j <= i:\n",
    "            print('*',end='')\n",
    "    print()"
   ]
  },
  {
   "source": [
    "### 19.3.1  대각선으로 별 출력하기"
   ],
   "cell_type": "markdown",
   "metadata": {}
  },
  {
   "cell_type": "code",
   "execution_count": 12,
   "metadata": {},
   "outputs": [
    {
     "output_type": "stream",
     "name": "stdout",
     "text": [
      "*\n*\n*\n*\n*\n"
     ]
    }
   ],
   "source": [
    "for i in range(5):\n",
    "    for j in range(5):\n",
    "        if j == i:\n",
    "            print('*',end='')\n",
    "    print()"
   ]
  },
  {
   "cell_type": "code",
   "execution_count": 14,
   "metadata": {},
   "outputs": [
    {
     "output_type": "stream",
     "name": "stdout",
     "text": [
      "*    \n *   \n  *  \n   * \n    *\n"
     ]
    }
   ],
   "source": [
    "for i in range(5):\n",
    "    for j in range(5):\n",
    "        if j == i:\n",
    "            print('*',end='')\n",
    "        else:\n",
    "            print(' ',end='')\n",
    "    print()"
   ]
  },
  {
   "source": [
    "### 19.5 연습문제: 역삼각형 모양으로 별 출력하기\n",
    "\n",
    "\n",
    "다음 소스 코드를 완성하여 역삼각형 모양으로 별이 출력되게 만드세요.\n",
    "\n",
    "for i in range(5):\n",
    "\n",
    "    for j in range(5):\n",
    "    \n",
    "                                     \n",
    "        ...\n",
    "                                     \n",
    "    print()\n",
    "\n",
    "    실행 결과\n",
    "\n",
    "    \n",
    "*****\n",
    " ****\n",
    "  ***\n",
    "   **\n",
    "    *"
   ],
   "cell_type": "markdown",
   "metadata": {}
  },
  {
   "cell_type": "code",
   "execution_count": 32,
   "metadata": {},
   "outputs": [
    {
     "output_type": "stream",
     "name": "stdout",
     "text": [
      "*****\n ****\n  ***\n   **\n    *\n"
     ]
    }
   ],
   "source": [
    "for i in range(5):\n",
    "    for j in range(5):\n",
    "        if j < i:\n",
    "            print(' ',end='')\n",
    "        else:\n",
    "            print('*', end='')\n",
    "    print()"
   ]
  },
  {
   "source": [
    "### 19.6 심사문제: 산 모양으로 별 출력하기\n",
    "\n",
    "표준 입력으로 삼각형의 높이가 입력됩니다. 입력된 높이만큼 산 모양으로 별을 출력하는 프로그램을 만드세요(input에서 안내 문자열은 출력하지 않아야 합니다). 이때 출력 결과는 예제와 정확히 일치해야 합니다. 모양이 같더라도 공백이나 빈 줄이 더 들어가면 틀린 것으로 처리됩니다.\n",
    "\n",
    "\n",
    "________________\n",
    "________________\n",
    "________________\n",
    "________________\n",
    "________________\n",
    "________________\n",
    "________________\n",
    "________________\n",
    "________________\n",
    "________________\n",
    "________________\n",
    "\n",
    "\n",
    "\n",
    "\n",
    "예\n",
    "입력\n",
    "3\n",
    "결과\n",
    "  *\n",
    " ***\n",
    "*****\n",
    "입력\n",
    "5\n",
    "결과\n",
    "    *\n",
    "   ***\n",
    "  *****\n",
    " *******\n",
    "*********"
   ],
   "cell_type": "markdown",
   "metadata": {}
  },
  {
   "cell_type": "code",
   "execution_count": 47,
   "metadata": {},
   "outputs": [
    {
     "output_type": "stream",
     "name": "stdout",
     "text": [
      "  *\n ***\n*****\n"
     ]
    }
   ],
   "source": [
    "x = int(input())\n",
    "\n",
    "for i in range(x):\n",
    "    for j in reversed(range(x)):\n",
    "        if i < j:\n",
    "            print(' ',end='')\n",
    "        else:\n",
    "            print('*', end='')\n",
    "            \n",
    "    for j in range(x):\n",
    "        if i > j:\n",
    "            print('*', end='')\n",
    "    print()"
   ]
  },
  {
   "cell_type": "code",
   "execution_count": null,
   "metadata": {},
   "outputs": [],
   "source": []
  }
 ]
}