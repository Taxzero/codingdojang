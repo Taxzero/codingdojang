{
 "metadata": {
  "language_info": {
   "codemirror_mode": {
    "name": "ipython",
    "version": 3
   },
   "file_extension": ".py",
   "mimetype": "text/x-python",
   "name": "python",
   "nbconvert_exporter": "python",
   "pygments_lexer": "ipython3",
   "version": "3.9.4"
  },
  "orig_nbformat": 2,
  "kernelspec": {
   "name": "python394jvsc74a57bd021f1ad5bc8fd95526da142de23db1942137de62e0445c4ff2b856a782ec60ebe",
   "display_name": "Python 3.9.4 64-bit"
  },
  "metadata": {
   "interpreter": {
    "hash": "21f1ad5bc8fd95526da142de23db1942137de62e0445c4ff2b856a782ec60ebe"
   }
  }
 },
 "nbformat": 4,
 "nbformat_minor": 2,
 "cells": [
  {
   "cell_type": "code",
   "execution_count": 2,
   "metadata": {},
   "outputs": [
    {
     "output_type": "stream",
     "name": "stdout",
     "text": [
      "Hello World\n"
     ]
    }
   ],
   "source": [
    "print('Hello World')"
   ]
  },
  {
   "source": [
    "#### unit3.7 연습문제: 문자열 출력하기"
   ],
   "cell_type": "markdown",
   "metadata": {}
  },
  {
   "source": [
    "print('Hello, world!')\n",
    "\n",
    "print(                  )"
   ],
   "cell_type": "markdown",
   "metadata": {}
  },
  {
   "source": [
    "Hello, world!\n",
    "\n",
    "Python Programming"
   ],
   "cell_type": "markdown",
   "metadata": {}
  },
  {
   "cell_type": "code",
   "execution_count": 5,
   "metadata": {},
   "outputs": [
    {
     "output_type": "stream",
     "name": "stdout",
     "text": [
      "Hello, world!\nPython Programming\n"
     ]
    }
   ],
   "source": [
    "print('Hello, world!')\n",
    "print('Python Programming')"
   ]
  },
  {
   "source": [
    "#### unit3.8 심사문제: 문자열 출력하기"
   ],
   "cell_type": "markdown",
   "metadata": {}
  },
  {
   "source": [
    "'Hello, world!' 두 개를 각 줄에 출력하는 프로그램을 만드세요(대소문자 구분과 띄어쓰기가 정확해야 합니다). 정답에는 출력 결과를 만족하는 전체 소스 코드를 입력해야 합니다.\n",
    "\n",
    "Hello, world!\n",
    "\n",
    "Hello, world!"
   ],
   "cell_type": "markdown",
   "metadata": {}
  },
  {
   "cell_type": "code",
   "execution_count": 7,
   "metadata": {},
   "outputs": [
    {
     "output_type": "stream",
     "name": "stdout",
     "text": [
      "Hello, world!\nHello, world!\n"
     ]
    }
   ],
   "source": [
    "print('Hello, world!')\n",
    "print('Hello, world!')"
   ]
  },
  {
   "cell_type": "code",
   "execution_count": null,
   "metadata": {},
   "outputs": [],
   "source": []
  }
 ]
}