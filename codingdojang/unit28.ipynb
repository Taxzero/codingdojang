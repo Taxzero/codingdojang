{
 "cells": [
  {
   "cell_type": "markdown",
   "source": [
    "# Unit 28. 회문 판별과 N-gram 만들기"
   ],
   "metadata": {}
  },
  {
   "cell_type": "markdown",
   "source": [
    "### 28.1.1  반복문으로 문자 검사하기"
   ],
   "metadata": {}
  },
  {
   "cell_type": "code",
   "execution_count": 1,
   "source": [
    "word = input('단어를 입력하세요: ')\r\n",
    " \r\n",
    "is_palindrome = True                 # 회문 판별값을 저장할 변수, 초깃값은 True\r\n",
    "for i in range(len(word) // 2):      # 0부터 문자열 길이의 절반만큼 반복\r\n",
    "    if word[i] != word[-1 - i]:      # 왼쪽 문자와 오른쪽 문자를 비교하여 문자가 다르면\r\n",
    "        is_palindrome = False        # 회문이 아님\r\n",
    "        break\r\n",
    " \r\n",
    "print(is_palindrome)                 # 회문 판별값 출력"
   ],
   "outputs": [
    {
     "output_type": "stream",
     "name": "stdout",
     "text": [
      "True\n"
     ]
    }
   ],
   "metadata": {}
  },
  {
   "cell_type": "markdown",
   "source": [
    "### 28.1.2  시퀀스 뒤집기로 문자 검사하기"
   ],
   "metadata": {}
  },
  {
   "cell_type": "code",
   "execution_count": 3,
   "source": [
    "word = input('단어를 입력하세요: ')\r\n",
    " \r\n",
    "print(word == word[::-1])    # 원래 문자열과 반대로 뒤집은 문자열을 비교"
   ],
   "outputs": [
    {
     "output_type": "stream",
     "name": "stdout",
     "text": [
      "True\n"
     ]
    }
   ],
   "metadata": {}
  },
  {
   "cell_type": "markdown",
   "source": [
    "### 28.1.3  리스트와 reversed 사용하기"
   ],
   "metadata": {}
  },
  {
   "cell_type": "code",
   "execution_count": 5,
   "source": [
    "word = 'level'\r\n",
    "list(word) == list(reversed(word))"
   ],
   "outputs": [
    {
     "output_type": "execute_result",
     "data": {
      "text/plain": [
       "True"
      ]
     },
     "metadata": {},
     "execution_count": 5
    }
   ],
   "metadata": {}
  },
  {
   "cell_type": "code",
   "execution_count": 6,
   "source": [
    "list(word)"
   ],
   "outputs": [
    {
     "output_type": "execute_result",
     "data": {
      "text/plain": [
       "['l', 'e', 'v', 'e', 'l']"
      ]
     },
     "metadata": {},
     "execution_count": 6
    }
   ],
   "metadata": {}
  },
  {
   "cell_type": "code",
   "execution_count": 7,
   "source": [
    "list(reversed(word))"
   ],
   "outputs": [
    {
     "output_type": "execute_result",
     "data": {
      "text/plain": [
       "['l', 'e', 'v', 'e', 'l']"
      ]
     },
     "metadata": {},
     "execution_count": 7
    }
   ],
   "metadata": {}
  },
  {
   "cell_type": "markdown",
   "source": [
    "### 28.1.4  문자열의 join 메서드와 reversed 사용하기"
   ],
   "metadata": {}
  },
  {
   "cell_type": "code",
   "execution_count": 9,
   "source": [
    "word = 'level'\r\n",
    "word == ''.join(reversed(word))"
   ],
   "outputs": [
    {
     "output_type": "execute_result",
     "data": {
      "text/plain": [
       "True"
      ]
     },
     "metadata": {},
     "execution_count": 9
    }
   ],
   "metadata": {}
  },
  {
   "cell_type": "code",
   "execution_count": 10,
   "source": [
    "word"
   ],
   "outputs": [
    {
     "output_type": "execute_result",
     "data": {
      "text/plain": [
       "'level'"
      ]
     },
     "metadata": {},
     "execution_count": 10
    }
   ],
   "metadata": {}
  },
  {
   "cell_type": "code",
   "execution_count": 11,
   "source": [
    "''.join(reversed(word))"
   ],
   "outputs": [
    {
     "output_type": "execute_result",
     "data": {
      "text/plain": [
       "'level'"
      ]
     },
     "metadata": {},
     "execution_count": 11
    }
   ],
   "metadata": {}
  },
  {
   "cell_type": "markdown",
   "source": [
    "### 28.2.1  반복문으로 N-gram 출력하기"
   ],
   "metadata": {}
  },
  {
   "cell_type": "code",
   "execution_count": 13,
   "source": [
    "text = 'Hello'\r\n",
    " \r\n",
    "for i in range(len(text) - 1):             # 2-gram이므로 문자열의 끝에서 한 글자 앞까지만 반복함\r\n",
    "    print(text[i], text[i + 1], sep='')    # 현재 문자와 그다음 문자 출력"
   ],
   "outputs": [
    {
     "output_type": "stream",
     "name": "stdout",
     "text": [
      "He\n",
      "el\n",
      "ll\n",
      "lo\n"
     ]
    }
   ],
   "metadata": {}
  },
  {
   "cell_type": "code",
   "execution_count": 14,
   "source": [
    "text = 'this is python script'\r\n",
    "words = text.split()                 # 공백을 기준으로 문자열을 분리하여 리스트로 만듦\r\n",
    " \r\n",
    "for i in range(len(words) - 1):      # 2-gram이므로 리스트의 마지막에서 요소 한 개 앞까지만 반복함\r\n",
    "    print(words[i], words[i + 1])    # 현재 문자열과 그다음 문자열 출력"
   ],
   "outputs": [
    {
     "output_type": "stream",
     "name": "stdout",
     "text": [
      "this is\n",
      "is python\n",
      "python script\n"
     ]
    }
   ],
   "metadata": {}
  },
  {
   "cell_type": "markdown",
   "source": [
    "### 28.2.2  zip으로 2-gram 만들기"
   ],
   "metadata": {}
  },
  {
   "cell_type": "code",
   "execution_count": 16,
   "source": [
    "text = 'hello'\r\n",
    " \r\n",
    "two_gram = zip(text, text[1:])\r\n",
    "for i in two_gram:\r\n",
    "    print(i[0], i[1], sep='')"
   ],
   "outputs": [
    {
     "output_type": "stream",
     "name": "stdout",
     "text": [
      "he\n",
      "el\n",
      "ll\n",
      "lo\n"
     ]
    }
   ],
   "metadata": {}
  },
  {
   "cell_type": "code",
   "execution_count": 17,
   "source": [
    "text = 'hello'\r\n",
    "list(zip(text, text[1:]))"
   ],
   "outputs": [
    {
     "output_type": "execute_result",
     "data": {
      "text/plain": [
       "[('h', 'e'), ('e', 'l'), ('l', 'l'), ('l', 'o')]"
      ]
     },
     "metadata": {},
     "execution_count": 17
    }
   ],
   "metadata": {}
  },
  {
   "cell_type": "code",
   "execution_count": 18,
   "source": [
    "text = 'this is python script'\r\n",
    "words = text.split()\r\n",
    "list(zip(words, words[1:]))"
   ],
   "outputs": [
    {
     "output_type": "execute_result",
     "data": {
      "text/plain": [
       "[('this', 'is'), ('is', 'python'), ('python', 'script')]"
      ]
     },
     "metadata": {},
     "execution_count": 18
    }
   ],
   "metadata": {}
  },
  {
   "cell_type": "markdown",
   "source": [
    "### 28.2.3  zip과 리스트 표현식으로 N-gram 만들기"
   ],
   "metadata": {}
  },
  {
   "cell_type": "code",
   "execution_count": 20,
   "source": [
    "text = 'hello'\r\n",
    "[text[i:] for i in range(3)]"
   ],
   "outputs": [
    {
     "output_type": "execute_result",
     "data": {
      "text/plain": [
       "['hello', 'ello', 'llo']"
      ]
     },
     "metadata": {},
     "execution_count": 20
    }
   ],
   "metadata": {}
  },
  {
   "cell_type": "code",
   "execution_count": 21,
   "source": [
    "list(zip(['hello', 'ello', 'llo']))"
   ],
   "outputs": [
    {
     "output_type": "execute_result",
     "data": {
      "text/plain": [
       "[('hello',), ('ello',), ('llo',)]"
      ]
     },
     "metadata": {},
     "execution_count": 21
    }
   ],
   "metadata": {}
  },
  {
   "cell_type": "code",
   "execution_count": 22,
   "source": [
    "list(zip(*['hello', 'ello', 'llo']))"
   ],
   "outputs": [
    {
     "output_type": "execute_result",
     "data": {
      "text/plain": [
       "[('h', 'e', 'l'), ('e', 'l', 'l'), ('l', 'l', 'o')]"
      ]
     },
     "metadata": {},
     "execution_count": 22
    }
   ],
   "metadata": {}
  },
  {
   "cell_type": "code",
   "execution_count": 23,
   "source": [
    "list(zip(*[text[i:] for i in range(3)]))"
   ],
   "outputs": [
    {
     "output_type": "execute_result",
     "data": {
      "text/plain": [
       "[('h', 'e', 'l'), ('e', 'l', 'l'), ('l', 'l', 'o')]"
      ]
     },
     "metadata": {},
     "execution_count": 23
    }
   ],
   "metadata": {}
  },
  {
   "cell_type": "markdown",
   "source": [
    "### 28.3 연습문제: 단어 단위 N-gram 만들기\r\n",
    "\r\n",
    "표준 입력으로 정수와 문자열이 각 줄에 입력됩니다. 다음 소스 코드를 완성하여 입력된 숫자에 해당하는 단어 단위 N-gram을 튜플로 출력하세요(리스트 표현식 사용). 만약 입력된 문자열의 단어 개수가 입력된 정수 미만이라면 'wrong'을 출력하세요.\r\n",
    "\r\n",
    "practice_n_gram_word.py\r\n",
    "n = int(input())\r\n",
    "text = input()\r\n",
    "words = ①           \r\n",
    " \r\n",
    "if (②             ):\r\n",
    "    print('wrong')\r\n",
    "else:\r\n",
    "    n_gram = ③                                 \r\n",
    "    for i in n_gram:\r\n",
    "        print(i)\r\n",
    "실행 결과\r\n",
    "7 (입력)\r\n",
    "Python is a programming language that lets you work quickly (입력)\r\n",
    "('Python', 'is', 'a', 'programming', 'language', 'that', 'lets')\r\n",
    "('is', 'a', 'programming', 'language', 'that', 'lets', 'you')\r\n",
    "('a', 'programming', 'language', 'that', 'lets', 'you', 'work')\r\n",
    "('programming', 'language', 'that', 'lets', 'you', 'work', 'quickly')\r\n",
    "실행 결과\r\n",
    "7 (입력)\r\n",
    "Python is a programming language (입력)\r\n",
    "wrong"
   ],
   "metadata": {}
  },
  {
   "cell_type": "code",
   "execution_count": 26,
   "source": [
    "n = int(input())\r\n",
    "text = input()\r\n",
    "words = text.split()           \r\n",
    " \r\n",
    "if (len(words) < n):\r\n",
    "    print('wrong')\r\n",
    "else:\r\n",
    "    n_gram = zip(*[words[i:] for i in range(n)])                                \r\n",
    "    for i in n_gram:\r\n",
    "        print(i)"
   ],
   "outputs": [
    {
     "output_type": "stream",
     "name": "stdout",
     "text": [
      "('Python', 'is', 'a', 'programming', 'language', 'that', 'lets')\n",
      "('is', 'a', 'programming', 'language', 'that', 'lets', 'you')\n",
      "('a', 'programming', 'language', 'that', 'lets', 'you', 'work')\n",
      "('programming', 'language', 'that', 'lets', 'you', 'work', 'quickly')\n"
     ]
    }
   ],
   "metadata": {}
  },
  {
   "cell_type": "markdown",
   "source": [
    "### 28.4 심사문제: 파일에서 회문인 단어 출력하기\r\n",
    "\r\n",
    "단어가 줄 단위로 저장된 words.txt 파일이 주어집니다. words.txt 파일에서 회문인 단어를 각 줄에 출력하는 프로그램을 만드세요. 단어를 출력할 때는 등장한 순서대로 출력해야 합니다. 그리고 파일에서 읽은 단어는 \\n이 붙어있으므로 \\n을 제외한 뒤 회문인지 판단해야 하며 단어를 출력할 때도 \\n이 출력되면 안 됩니다(단어 사이에 줄바꿈이 두 번 일어나면 안 됨).\r\n",
    "\r\n",
    "judge_palindrome.py\r\n",
    "________________\r\n",
    "________________\r\n",
    "________________\r\n",
    "________________\r\n",
    "________________\r\n",
    "________________\r\n",
    "\r\n",
    "\r\n",
    "words.txt\r\n",
    "apache\r\n",
    "decal\r\n",
    "did\r\n",
    "neep\r\n",
    "noon\r\n",
    "refer\r\n",
    "river\r\n",
    "표준 출력\r\n",
    "did\r\n",
    "noon\r\n",
    "refer"
   ],
   "metadata": {}
  },
  {
   "cell_type": "code",
   "execution_count": 28,
   "source": [
    "with open('words.txt','r')as file:\r\n",
    "    for line in file:\r\n",
    "        words=line.split() #공백을 기준으로 분리하여 리스트로\r\n",
    "        for word in words:\r\n",
    "            if list(word)==list(reversed(word)): #만약 회문이면 출력\r\n",
    "                print(word.strip())"
   ],
   "outputs": [
    {
     "output_type": "stream",
     "name": "stdout",
     "text": [
      "did\n",
      "noon\n",
      "refer\n"
     ]
    }
   ],
   "metadata": {}
  },
  {
   "cell_type": "code",
   "execution_count": null,
   "source": [],
   "outputs": [],
   "metadata": {}
  }
 ],
 "metadata": {
  "orig_nbformat": 4,
  "language_info": {
   "name": "python"
  }
 },
 "nbformat": 4,
 "nbformat_minor": 2
}