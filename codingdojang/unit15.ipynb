{
 "metadata": {
  "language_info": {
   "codemirror_mode": {
    "name": "ipython",
    "version": 3
   },
   "file_extension": ".py",
   "mimetype": "text/x-python",
   "name": "python",
   "nbconvert_exporter": "python",
   "pygments_lexer": "ipython3",
   "version": "3.8.5"
  },
  "orig_nbformat": 2,
  "kernelspec": {
   "name": "python385jvsc74a57bd0c81169c30fb96244cfba0db287a0d3fd5325268de070a7a6116eecd4596df902",
   "display_name": "Python 3.8.5 64-bit ('base': conda)"
  }
 },
 "nbformat": 4,
 "nbformat_minor": 2,
 "cells": [
  {
   "source": [
    "# 15.1 elif 사용하기 "
   ],
   "cell_type": "markdown",
   "metadata": {}
  },
  {
   "source": [
    "### Unit 15. elif를 사용하여 여러 방향으로 분기하기"
   ],
   "cell_type": "markdown",
   "metadata": {}
  },
  {
   "source": [
    "if 콜라 버튼을 눌렀다면:\n",
    "    콜라를 내보냄\n",
    "\n",
    "elif 사이다 버튼을 눌렀다면:\n",
    "    사이다를 내보냄\n",
    "\n",
    "elif 환타 버튼을 눌렀다면:\n",
    "    환타를 내보냄:\n",
    "    \n",
    "else:\n",
    "    제공하지 않는 메뉴"
   ],
   "cell_type": "markdown",
   "metadata": {}
  },
  {
   "source": [
    "------------\n",
    "if 조건식:\n",
    "     코드1\n",
    "     \n",
    "elif 조건식:\n",
    "     코드2"
   ],
   "cell_type": "markdown",
   "metadata": {}
  },
  {
   "cell_type": "code",
   "execution_count": 3,
   "metadata": {},
   "outputs": [
    {
     "output_type": "stream",
     "name": "stdout",
     "text": [
      "20입니다.\n"
     ]
    }
   ],
   "source": [
    "x = 20\n",
    "if x == 10:\n",
    "    print('10입니다.')\n",
    "elif x == 20:\n",
    "    print('20입니다.')"
   ]
  },
  {
   "source": [
    "### 15.1.1  if, elif, else를 모두 사용하기"
   ],
   "cell_type": "markdown",
   "metadata": {}
  },
  {
   "source": [
    "if 조건식:\n",
    "    코드1\n",
    "\n",
    "elif 조건식:\n",
    "    코드2\n",
    "    \n",
    "else:\n",
    "    코드3"
   ],
   "cell_type": "markdown",
   "metadata": {}
  },
  {
   "cell_type": "code",
   "execution_count": 4,
   "metadata": {},
   "outputs": [
    {
     "output_type": "stream",
     "name": "stdout",
     "text": [
      "10도 20도 아닙니다.\n"
     ]
    }
   ],
   "source": [
    "x = 30\n",
    "\n",
    "if x == 10:\n",
    "    print('10입니다.')\n",
    "elif x == 20:\n",
    "    print('20입니다.')\n",
    "else:\n",
    "    print('10도 20도 아닙니다.')"
   ]
  },
  {
   "source": [
    "### 15.1.2  음료수 자판기 만들기"
   ],
   "cell_type": "markdown",
   "metadata": {}
  },
  {
   "cell_type": "code",
   "execution_count": 5,
   "metadata": {},
   "outputs": [
    {
     "output_type": "stream",
     "name": "stdout",
     "text": [
      "콜라\n"
     ]
    }
   ],
   "source": [
    "button = int(input())\n",
    "\n",
    "if button == 1:\n",
    "    print('콜라')\n",
    "elif button == 2:\n",
    "    print('사이다')\n",
    "elif button == 3:\n",
    "    print('환타')\n",
    "else:\n",
    "    print('제공하지 않는 메뉴') "
   ]
  },
  {
   "source": [
    "### 15.3 연습문제: if, elif, else 모두 사용하기\n",
    "\n",
    "다음 소스 코드를 완성하여 변수 x가 11과 20 사이면 '11~20', 21과 30 사이면 '21~30', 아무것도 해당하지 않으면 '아무것도 해당하지 않음'이 출력되게 만드세요.\n",
    "\n",
    "x = int(input())\n",
    " \n",
    "                     \n",
    "                     \n",
    "                     \n",
    "                     \n",
    "                     \n",
    "                     "
   ],
   "cell_type": "markdown",
   "metadata": {}
  },
  {
   "cell_type": "code",
   "execution_count": 6,
   "metadata": {},
   "outputs": [
    {
     "output_type": "stream",
     "name": "stdout",
     "text": [
      "아무것도 해당하지 않음\n"
     ]
    }
   ],
   "source": [
    "x = int(input())\n",
    "\n",
    "if 11 <= x <=20:\n",
    "    print('11~20')\n",
    "elif 21 <= x <=30:\n",
    "    print('21~30')\n",
    "else:\n",
    "    print('아무것도 해당하지 않음')"
   ]
  },
  {
   "source": [
    "### 15.4 심사문제: 교통카드 시스템 만들기 \n",
    "\n",
    "표준 입력으로 나이(만 나이)가 입력됩니다(입력 값은 7 이상 입력됨). 교통카드 시스템에서 시내버스 요금은 다음과 같으며 각 나이에 맞게 요금을 차감한 뒤 잔액이 출력되게 만드세요(if, elif 사용). 현재 교통카드에는 9,000원이 들어있습니다.\n",
    "\n",
    "-어린이(초등학생, 만 7세 이상 12세 이하): 650원\n",
    "\n",
    "-청소년(중∙고등학생, 만 13세 이상 18세 이하): 1,050원\n",
    "\n",
    "-어른(일반, 만 19세 이상): 1,250원\n",
    "\n",
    "age = int(input())\n",
    "\n",
    "balance = 9000    # 교통카드 잔액\n",
    "\n",
    "________________\n",
    "________________\n",
    "________________\n",
    "________________\n",
    "________________\n",
    "________________\n",
    "\n",
    "print(balance)"
   ],
   "cell_type": "markdown",
   "metadata": {}
  },
  {
   "cell_type": "code",
   "execution_count": 11,
   "metadata": {},
   "outputs": [
    {
     "output_type": "stream",
     "name": "stdout",
     "text": [
      "7950\n"
     ]
    }
   ],
   "source": [
    "age = int(input())\n",
    "balance = 9000\n",
    "\n",
    "if 7 <= age <=12:\n",
    "    balance-=650\n",
    "elif 13 <= age <= 18:\n",
    "    balance-=1050\n",
    "elif age <= 19:\n",
    "    balance-=1250\n",
    "\n",
    "print(balance)"
   ]
  },
  {
   "cell_type": "code",
   "execution_count": null,
   "metadata": {},
   "outputs": [],
   "source": []
  }
 ]
}