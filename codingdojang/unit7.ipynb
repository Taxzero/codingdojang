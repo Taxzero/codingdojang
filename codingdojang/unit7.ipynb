{
 "metadata": {
  "language_info": {
   "codemirror_mode": {
    "name": "ipython",
    "version": 3
   },
   "file_extension": ".py",
   "mimetype": "text/x-python",
   "name": "python",
   "nbconvert_exporter": "python",
   "pygments_lexer": "ipython3",
   "version": "3.9.4"
  },
  "orig_nbformat": 2,
  "kernelspec": {
   "name": "python394jvsc74a57bd021f1ad5bc8fd95526da142de23db1942137de62e0445c4ff2b856a782ec60ebe",
   "display_name": "Python 3.9.4 64-bit"
  },
  "metadata": {
   "interpreter": {
    "hash": "21f1ad5bc8fd95526da142de23db1942137de62e0445c4ff2b856a782ec60ebe"
   }
  }
 },
 "nbformat": 4,
 "nbformat_minor": 2,
 "cells": [
  {
   "source": [
    "#### 값을 여러개 출력하기"
   ],
   "cell_type": "markdown",
   "metadata": {}
  },
  {
   "cell_type": "code",
   "execution_count": 4,
   "metadata": {},
   "outputs": [
    {
     "output_type": "stream",
     "name": "stdout",
     "text": [
      "1 2 3\nHello Python\n"
     ]
    }
   ],
   "source": [
    "print(1,2,3)\n",
    "print('Hello','Python')"
   ]
  },
  {
   "source": [
    "#### sep로 값 사이에 문자 넣기"
   ],
   "cell_type": "markdown",
   "metadata": {}
  },
  {
   "cell_type": "code",
   "execution_count": 9,
   "metadata": {},
   "outputs": [
    {
     "output_type": "stream",
     "name": "stdout",
     "text": [
      "1, 2, 3\nHello, Python\n1920 X 1080\n"
     ]
    }
   ],
   "source": [
    "print(1,2,3, sep=', ')\n",
    "print('Hello','Python', sep=', ')\n",
    "print(1920, 1080, sep=' X ')"
   ]
  },
  {
   "source": [
    "#### 줄바꿈 활용하기"
   ],
   "cell_type": "markdown",
   "metadata": {}
  },
  {
   "cell_type": "code",
   "execution_count": 12,
   "metadata": {},
   "outputs": [
    {
     "output_type": "stream",
     "name": "stdout",
     "text": [
      "1 2 3\n"
     ]
    }
   ],
   "source": [
    "print(1,2,3) #일반적인 방법"
   ]
  },
  {
   "cell_type": "code",
   "execution_count": 14,
   "metadata": {},
   "outputs": [
    {
     "output_type": "stream",
     "name": "stdout",
     "text": [
      "1\n2\n3\n"
     ]
    }
   ],
   "source": [
    "print(1,2,3, sep='\\n') #줄바꿈"
   ]
  },
  {
   "cell_type": "code",
   "execution_count": 16,
   "metadata": {},
   "outputs": [
    {
     "output_type": "stream",
     "name": "stdout",
     "text": [
      "1\n2\n3\n"
     ]
    }
   ],
   "source": [
    "print('1\\n2\\n3') #\\n도 문자여서 문자열안에 바로 사용 가능"
   ]
  },
  {
   "source": [
    "#### lend 사용하기 "
   ],
   "cell_type": "markdown",
   "metadata": {}
  },
  {
   "cell_type": "code",
   "execution_count": 17,
   "metadata": {},
   "outputs": [
    {
     "output_type": "stream",
     "name": "stdout",
     "text": [
      "1\n2\n3\n"
     ]
    }
   ],
   "source": [
    "print(1)\n",
    "print(2)\n",
    "print(3)"
   ]
  },
  {
   "cell_type": "code",
   "execution_count": 22,
   "metadata": {},
   "outputs": [
    {
     "output_type": "stream",
     "name": "stdout",
     "text": [
      "123\n"
     ]
    }
   ],
   "source": [
    "print(1, end='') # end에 빈 문자열을 지정하면 다음 번 출력이 바로 뒤에 오게 됨\n",
    "print(2, end='')\n",
    "print(3)"
   ]
  },
  {
   "cell_type": "code",
   "execution_count": 21,
   "metadata": {},
   "outputs": [
    {
     "output_type": "stream",
     "name": "stdout",
     "text": [
      "1 2 3\n"
     ]
    }
   ],
   "source": [
    "print(1, end=' ') #공백 지정\n",
    "print(2, end=' ')\n",
    "print(3)"
   ]
  },
  {
   "source": [
    "#### unit7.4 연습문제: 날짜와 시간 출력하기\n",
    "\n",
    "다음 소스 코드를 완성하여 날짜와 시간이 출력되게 만드세요.\n",
    "\n",
    "year = 2000\n",
    "\n",
    "month = 10\n",
    "\n",
    "day = 27\n",
    "\n",
    "hour = 11\n",
    "\n",
    "minute = 43\n",
    "\n",
    "second = 59\n",
    " \n",
    "print(year, month, day, ①               )\n",
    "\n",
    "print(hour, minute, second, ②       )\n",
    "\n",
    "실행 결과\n",
    "\n",
    "2000/10/27 11:43:59"
   ],
   "cell_type": "markdown",
   "metadata": {}
  },
  {
   "cell_type": "code",
   "execution_count": 24,
   "metadata": {},
   "outputs": [
    {
     "output_type": "stream",
     "name": "stdout",
     "text": [
      "2000/10/27 11:43:59\n"
     ]
    }
   ],
   "source": [
    "year = 2000\n",
    "\n",
    "month = 10\n",
    "\n",
    "day = 27\n",
    "\n",
    "hour = 11\n",
    "\n",
    "minute = 43\n",
    "\n",
    "second = 59\n",
    "\n",
    "print(year, month, day, sep='/', end=' ')\n",
    "print(hour, minute, second,sep=':')"
   ]
  },
  {
   "source": [
    "#### unit7.5 심사문제: 날짜와 시간 출력하기\n",
    "\n",
    "표준 입력으로 년, 월, 일, 시, 분, 초가 입력됩니다. 다음 소스 코드를 완성하여 입력된 날짜와 시간을 년-월-일T시:분:초 형식으로 출력되게 만드세요.\n",
    "\n",
    " * 부분 완성형 문제이므로 밑줄친 부분에 들어갈 코드만 제출하세요.\n",
    "\n",
    " year, month, day, hour, minute, second = input().split()\n",
    "\n",
    "_______________________________________\n",
    "print(hour, minute, second, sep=':')\n",
    "\n",
    "\n",
    "입력\n",
    "1999 12 31 10 37 21\n",
    "\n",
    "결과\n",
    "1999-12-31T10:37:21"
   ],
   "cell_type": "markdown",
   "metadata": {}
  },
  {
   "cell_type": "code",
   "execution_count": 28,
   "metadata": {},
   "outputs": [
    {
     "output_type": "stream",
     "name": "stdout",
     "text": [
      "1999-12-31T10:37:21\n"
     ]
    }
   ],
   "source": [
    "year, month, day, hour, minute, second = input().split()\n",
    "\n",
    "print(year, month, day, sep='-',end='T')\n",
    "print(hour, minute, second, sep=':')\n"
   ]
  },
  {
   "cell_type": "code",
   "execution_count": null,
   "metadata": {},
   "outputs": [],
   "source": []
  }
 ]
}