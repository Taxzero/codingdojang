{
 "metadata": {
  "language_info": {
   "codemirror_mode": {
    "name": "ipython",
    "version": 3
   },
   "file_extension": ".py",
   "mimetype": "text/x-python",
   "name": "python",
   "nbconvert_exporter": "python",
   "pygments_lexer": "ipython3",
   "version": "3.9.4"
  },
  "orig_nbformat": 2,
  "kernelspec": {
   "name": "python394jvsc74a57bd021f1ad5bc8fd95526da142de23db1942137de62e0445c4ff2b856a782ec60ebe",
   "display_name": "Python 3.9.4 64-bit"
  },
  "metadata": {
   "interpreter": {
    "hash": "21f1ad5bc8fd95526da142de23db1942137de62e0445c4ff2b856a782ec60ebe"
   }
  }
 },
 "nbformat": 4,
 "nbformat_minor": 2,
 "cells": [
  {
   "source": [
    "# unit.13 if 조건문 사용하기"
   ],
   "cell_type": "markdown",
   "metadata": {}
  },
  {
   "cell_type": "code",
   "execution_count": null,
   "metadata": {},
   "outputs": [],
   "source": [
    "# ex) if 세탁 완료 소리가 울리면:\n",
    "#    빨래를 꺼내서 말린다."
   ]
  },
  {
   "source": [
    "- 13.1 if 조건문 사용하기"
   ],
   "cell_type": "markdown",
   "metadata": {}
  },
  {
   "cell_type": "code",
   "execution_count": 2,
   "metadata": {},
   "outputs": [
    {
     "output_type": "stream",
     "name": "stdout",
     "text": [
      "10입니다.\n"
     ]
    }
   ],
   "source": [
    "x = 10\n",
    "if x == 10:\n",
    "    print('10입니다.')"
   ]
  },
  {
   "source": [
    "- 13.1.3 if 조건문에서 코드를 생략하기"
   ],
   "cell_type": "markdown",
   "metadata": {}
  },
  {
   "cell_type": "code",
   "execution_count": 3,
   "metadata": {},
   "outputs": [],
   "source": [
    "x = 10\n",
    "if x == 10:\n",
    "    pass"
   ]
  },
  {
   "source": [
    "- pass 를 사용하는 이유는 나중에 작성해야 할 코드를 표시하기 위해(주석을 옆에 추가하여 무엇을 해야 할지 남겨 놓는다.)"
   ],
   "cell_type": "markdown",
   "metadata": {}
  },
  {
   "source": [
    "### if 조건문과 들여쓰기 "
   ],
   "cell_type": "markdown",
   "metadata": {}
  },
  {
   "cell_type": "code",
   "execution_count": 4,
   "metadata": {},
   "outputs": [
    {
     "output_type": "stream",
     "name": "stdout",
     "text": [
      "x에 들어있는 숫자는\n10입니다.\n"
     ]
    }
   ],
   "source": [
    "x = 10\n",
    "\n",
    "if x == 10:\n",
    "    print('x에 들어있는 숫자는')\n",
    "    print('10입니다.')"
   ]
  },
  {
   "source": [
    "### 13.3 중첩 if 조건문 사용하기"
   ],
   "cell_type": "markdown",
   "metadata": {}
  },
  {
   "cell_type": "code",
   "execution_count": 5,
   "metadata": {},
   "outputs": [
    {
     "output_type": "stream",
     "name": "stdout",
     "text": [
      "10이상입니다.\n15입니다.\n"
     ]
    }
   ],
   "source": [
    "x = 15\n",
    "\n",
    "if x >= 10:\n",
    "    print('10이상입니다.')\n",
    "\n",
    "    if x == 15:\n",
    "        print('15입니다.')\n",
    "    if x == 20:\n",
    "        print('20입니다.')"
   ]
  },
  {
   "source": [
    "### 13.4사용자가 입력한 값에 if 조건문 사용하기"
   ],
   "cell_type": "markdown",
   "metadata": {}
  },
  {
   "cell_type": "code",
   "execution_count": 7,
   "metadata": {},
   "outputs": [
    {
     "output_type": "stream",
     "name": "stdout",
     "text": [
      "10입니다.\n"
     ]
    }
   ],
   "source": [
    "x = int(input())\n",
    "\n",
    "if x == 10:\n",
    "    print('10입니다.')\n",
    "\n",
    "if x == 20:\n",
    "    print('20입니다.')"
   ]
  },
  {
   "source": [
    "## 13.6 연습문제: if 조건문 사용하기"
   ],
   "cell_type": "markdown",
   "metadata": {}
  },
  {
   "cell_type": "code",
   "execution_count": 10,
   "metadata": {},
   "outputs": [
    {
     "output_type": "stream",
     "name": "stdout",
     "text": [
      "ok\n"
     ]
    }
   ],
   "source": [
    "x = 5\n",
    "if x != 10:\n",
    "    print('ok')"
   ]
  },
  {
   "source": [
    "### unit13.7 심사문제: 온라인 할인 쿠폰 시스템 만들기\n",
    "\n",
    "표준 입력으로 가격(정수)과 쿠폰 이름이 각 줄에 입력됩니다.\n",
    "\n",
    "Cash3000 쿠폰은 3,000원, Cash5000 쿠폰은 5,000원을 할인합니다.\n",
    "\n",
    "쿠폰에 따라 할인된 가격을 출력하는 프로그램을 만드세요(input에서 안내 문자열은 출력하지 않아야 합니다).\n",
    "\n",
    "________________\n",
    "________________\n",
    "________________\n",
    "________________\n",
    "________________\n",
    "________________\n",
    "________________\n",
    "\n",
    "\n",
    "예\n",
    "\n",
    "입력\n",
    "\n",
    "27000\n",
    "\n",
    "Cash3000\n",
    "\n",
    "결과\n",
    "\n",
    "24000\n",
    "\n",
    "입력\n",
    "\n",
    "72000\n",
    "\n",
    "Cash5000\n",
    "\n",
    "결과\n",
    "\n",
    "67000"
   ],
   "cell_type": "markdown",
   "metadata": {}
  },
  {
   "cell_type": "code",
   "execution_count": 17,
   "metadata": {},
   "outputs": [
    {
     "output_type": "stream",
     "name": "stdout",
     "text": [
      "24000\n"
     ]
    }
   ],
   "source": [
    "Cash3000 = 3000\n",
    "Cash5000 = 5000\n",
    "\n",
    "x = int(input())\n",
    "y = input()\n",
    "\n",
    "\n",
    "if y == 'Cash3000':\n",
    "    x -=3000\n",
    "if y == 'Cash5000':\n",
    "    x-=5000\n",
    "\n",
    "print(x)"
   ]
  },
  {
   "cell_type": "code",
   "execution_count": null,
   "metadata": {},
   "outputs": [],
   "source": []
  }
 ]
}